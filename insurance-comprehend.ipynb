{
 "cells": [
  {
   "cell_type": "markdown",
   "metadata": {
    "jupyter": {
     "source_hidden": true
    }
   },
   "source": [
    "## Introduction\n",
    "\n",
    "Amazon Comprehend provides textual analysis for a given content. In this workshop we will demonstrate some of the features and capabilities with in the Instance domain\n",
    "\n",
    "Comprehend Builtin features:\n",
    "* Entities detection – extract a a list of entities, such as people, places, and locations, identified in a document.\n",
    "* Key phrases detection – extracts key phrases that appear in a document.\n",
    "* PII information detection – analyzes and detect personal data that could be used to identify an individual, such as an address, bank account number, or phone number.\n",
    "* Determine Language – the dominant language in a document.\n",
    "* Determine Sentiment – the emotional sentiment of a document.\n",
    "* Syntax Processing – parses each word in your document and determines the part of speech for the word. For example, in the sentence \"It is raining today in Seattle,\" \"it\" is identified as a pronoun, \"raining\" is identified as a verb, and \"Seattle\" is identified as a proper noun.\n",
    "* Custom classifier - you can also build our own classifier by providing content and matching classification.\n",
    "* Topic modeling - organize a large corpus of documents into topics or clusters that are similar based on the frequency of words within them.\n",
    "\n",
    "Comprehend supports both synchronous and batch API calls, so it can be used for large scale processing as well as realtime results.\n"
   ]
  },
  {
   "cell_type": "markdown",
   "metadata": {},
   "source": [
    "## Extracting Insurance claims entities\n",
    "\n",
    "In this example, we will show how to integrate Amazon comprehend when building a model as part of a feature engineering. or feature extraction.\n",
    "Comprehend offers built-in entities' extraction when we can use the result for further analysis.\n",
    "\n"
   ]
  },
  {
   "cell_type": "code",
   "execution_count": 9,
   "metadata": {},
   "outputs": [
    {
     "name": "stdout",
     "output_type": "stream",
     "text": [
      "Example 1 response  [\n",
      "    {\n",
      "        \"Score\": 0.9992227554321289,\n",
      "        \"Type\": \"PERSON\",\n",
      "        \"Text\": \"Sam Ford\",\n",
      "        \"BeginOffset\": 15,\n",
      "        \"EndOffset\": 23\n",
      "    },\n",
      "    {\n",
      "        \"Score\": 0.9835370182991028,\n",
      "        \"Type\": \"OTHER\",\n",
      "        \"Text\": \"4561-YQT\",\n",
      "        \"BeginOffset\": 85,\n",
      "        \"EndOffset\": 93\n",
      "    }\n",
      "]\n"
     ]
    }
   ],
   "source": [
    "import boto3\n",
    "import json\n",
    "\n",
    "example1 = \"Hi, My name is Sam Ford and i'm filing a claim for car accident. my policy number is 4561-YQT\"\n",
    "\n",
    "client = boto3.client('comprehend')\n",
    "\n",
    "response = client.detect_entities(\n",
    "    Text=example1,\n",
    "    LanguageCode='en'\n",
    ")\n",
    "print(\"Example 1 response \" , json.dumps(response['Entities'], indent=4))\n"
   ]
  },
  {
   "cell_type": "markdown",
   "metadata": {},
   "source": [
    "You can see comprehend was able to detect the person name as Sam Ford and the Policy number as an entity of type Other.\n",
    "* We can build a customer comprehend model and train it to detect specific number as policy numbers, so that our model will return \"Policy\" instead of \"OTHER\" for a given policy number\n",
    "\n",
    "Let's look at another example"
   ]
  },
  {
   "cell_type": "code",
   "execution_count": 10,
   "metadata": {},
   "outputs": [
    {
     "name": "stdout",
     "output_type": "stream",
     "text": [
      "Example 2 response  [\n",
      "    {\n",
      "        \"Score\": 0.9821133017539978,\n",
      "        \"Type\": \"COMMERCIAL_ITEM\",\n",
      "        \"Text\": \"KG43\",\n",
      "        \"BeginOffset\": 29,\n",
      "        \"EndOffset\": 33\n",
      "    },\n",
      "    {\n",
      "        \"Score\": 0.9957295656204224,\n",
      "        \"Type\": \"QUANTITY\",\n",
      "        \"Text\": \"$292,513\",\n",
      "        \"BeginOffset\": 128,\n",
      "        \"EndOffset\": 136\n",
      "    }\n",
      "]\n"
     ]
    }
   ],
   "source": [
    "example2 = \"A turbine generator of model KG43 supplying power to a hospital failed when blades broke and penetrated the engine. Total Loss: $292,513\"\n",
    "response = client.detect_entities(\n",
    "    Text=example2,\n",
    "    LanguageCode='en'\n",
    ")\n",
    "print(\"Example 2 response \" , json.dumps(response['Entities'], indent=4))\n"
   ]
  },
  {
   "cell_type": "markdown",
   "metadata": {},
   "source": [
    "In this case, you can see comprehend was able to detect the machinery part caused the issue and automatically classify it as \"COMMERCIAL_ITEM\", Comprehend was also able to detect the loss quantitiy of the amount of $292,513 and classify it as \"QUANTITY\"\n",
    "* as mentioned above, we can build a custom classifier to classify the type of amount i.e.: \"Loss Amount\" or \"Claim amount\"\n"
   ]
  },
  {
   "cell_type": "markdown",
   "metadata": {},
   "source": [
    "## Detecting PII Data\n",
    "Let's see how comprehend can help to detect Personal identifiable information such as bank accounts and routing numbers"
   ]
  },
  {
   "cell_type": "code",
   "execution_count": 11,
   "metadata": {},
   "outputs": [
    {
     "name": "stdout",
     "output_type": "stream",
     "text": [
      "Example 3 response  [\n",
      "    {\n",
      "        \"Score\": 0.9999892711639404,\n",
      "        \"Type\": \"BANK_ACCOUNT_NUMBER\",\n",
      "        \"BeginOffset\": 43,\n",
      "        \"EndOffset\": 55\n",
      "    },\n",
      "    {\n",
      "        \"Score\": 0.9998562335968018,\n",
      "        \"Type\": \"BANK_ROUTING\",\n",
      "        \"BeginOffset\": 72,\n",
      "        \"EndOffset\": 81\n",
      "    }\n",
      "]\n"
     ]
    }
   ],
   "source": [
    "example3 = \"Please submit the claim funds to bank account: 100115449863 routing number: 012334851\"\n",
    "response = client.detect_pii_entities(\n",
    "    Text=example3,\n",
    "    LanguageCode='en'\n",
    ")\n",
    "print(\"Example 3 response \" , json.dumps(response['Entities'], indent=4))\n"
   ]
  },
  {
   "cell_type": "markdown",
   "metadata": {},
   "source": [
    "## Detecting Medical information\n",
    "We will now check a dedicated comprehend service for Medical information, this provides a pre-trained text analysis for Medical terms including Medications, Medical forms, drug, Diagnosis and more.\n",
    "\n",
    "In this example we will use Comprehend medical to detect an insurance claim for medical diagnosis\n"
   ]
  },
  {
   "cell_type": "code",
   "execution_count": 17,
   "metadata": {},
   "outputs": [
    {
     "name": "stdout",
     "output_type": "stream",
     "text": [
      "Example 4 response  [\n",
      "    {\n",
      "        \"Id\": 2,\n",
      "        \"BeginOffset\": 9,\n",
      "        \"EndOffset\": 14,\n",
      "        \"Score\": 0.9998182654380798,\n",
      "        \"Text\": \"Adams\",\n",
      "        \"Category\": \"PROTECTED_HEALTH_INFORMATION\",\n",
      "        \"Type\": \"NAME\",\n",
      "        \"Traits\": []\n",
      "    },\n",
      "    {\n",
      "        \"Id\": 0,\n",
      "        \"BeginOffset\": 84,\n",
      "        \"EndOffset\": 91,\n",
      "        \"Score\": 0.9535625576972961,\n",
      "        \"Text\": \"Chronic\",\n",
      "        \"Category\": \"MEDICAL_CONDITION\",\n",
      "        \"Type\": \"ACUITY\",\n",
      "        \"Traits\": []\n",
      "    },\n",
      "    {\n",
      "        \"Id\": 1,\n",
      "        \"BeginOffset\": 92,\n",
      "        \"EndOffset\": 104,\n",
      "        \"Score\": 0.9996131062507629,\n",
      "        \"Text\": \"Hypertension\",\n",
      "        \"Category\": \"MEDICAL_CONDITION\",\n",
      "        \"Type\": \"DX_NAME\",\n",
      "        \"Traits\": [\n",
      "            {\n",
      "                \"Name\": \"DIAGNOSIS\",\n",
      "                \"Score\": 0.9769366383552551\n",
      "            }\n",
      "        ],\n",
      "        \"Attributes\": [\n",
      "            {\n",
      "                \"Type\": \"ACUITY\",\n",
      "                \"Score\": 0.9535625576972961,\n",
      "                \"RelationshipScore\": 0.9999898672103882,\n",
      "                \"RelationshipType\": \"ACUITY\",\n",
      "                \"Id\": 0,\n",
      "                \"BeginOffset\": 84,\n",
      "                \"EndOffset\": 91,\n",
      "                \"Text\": \"Chronic\",\n",
      "                \"Category\": \"MEDICAL_CONDITION\",\n",
      "                \"Traits\": []\n",
      "            }\n",
      "        ]\n",
      "    },\n",
      "    {\n",
      "        \"Id\": 3,\n",
      "        \"BeginOffset\": 151,\n",
      "        \"EndOffset\": 157,\n",
      "        \"Score\": 0.8862602114677429,\n",
      "        \"Text\": \"P11023\",\n",
      "        \"Category\": \"PROTECTED_HEALTH_INFORMATION\",\n",
      "        \"Type\": \"ID\",\n",
      "        \"Traits\": []\n",
      "    },\n",
      "    {\n",
      "        \"Id\": 4,\n",
      "        \"BeginOffset\": 162,\n",
      "        \"EndOffset\": 168,\n",
      "        \"Score\": 0.8060179948806763,\n",
      "        \"Text\": \"P42011\",\n",
      "        \"Category\": \"PROTECTED_HEALTH_INFORMATION\",\n",
      "        \"Type\": \"ID\",\n",
      "        \"Traits\": []\n",
      "    },\n",
      "    {\n",
      "        \"Id\": 5,\n",
      "        \"BeginOffset\": 182,\n",
      "        \"EndOffset\": 189,\n",
      "        \"Score\": 0.9972102046012878,\n",
      "        \"Text\": \"Gegings\",\n",
      "        \"Category\": \"PROTECTED_HEALTH_INFORMATION\",\n",
      "        \"Type\": \"NAME\",\n",
      "        \"Traits\": []\n",
      "    }\n",
      "]\n"
     ]
    }
   ],
   "source": [
    "client = boto3.client('comprehendmedical')\n",
    "\n",
    "example4 = \"Dear Mr. Adams,  after conducting several tests, I beleive my patient suffer from a Chronic Hypertension. As per this diagnosis, please approve claims P11023 and P42011. Thanks, Dr. Gegings\" \n",
    "response = client.detect_entities(\n",
    "    Text=example4\n",
    ")\n",
    "\n",
    "print(\"Example 4 response \" , json.dumps(response['Entities'], indent=4))\n",
    "\n",
    "# entities = []\n",
    "# for entity in response['Entities']:\n",
    "#    if entity['Score']>0.8 and entity['Type']==\"ORGANIZATION\":\n",
    "#       entities.append(entity['Text'])\n",
    "# print(entities)"
   ]
  },
  {
   "cell_type": "markdown",
   "metadata": {},
   "source": [
    "You can see comprehend detect the Medical Condition as Hypertension and can even detect its acute condition. Moreover the claims ID are classified as Protected Medical Health information along with the patient name."
   ]
  }
 ],
 "metadata": {
  "instance_type": "ml.t3.medium",
  "kernelspec": {
   "display_name": "conda_python3",
   "language": "python",
   "name": "conda_python3"
  },
  "language_info": {
   "codemirror_mode": {
    "name": "ipython",
    "version": 3
   },
   "file_extension": ".py",
   "mimetype": "text/x-python",
   "name": "python",
   "nbconvert_exporter": "python",
   "pygments_lexer": "ipython3",
   "version": "3.6.13"
  }
 },
 "nbformat": 4,
 "nbformat_minor": 4
}
